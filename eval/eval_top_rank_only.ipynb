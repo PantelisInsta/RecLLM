{
 "cells": [
  {
   "cell_type": "code",
   "execution_count": 1,
   "metadata": {},
   "outputs": [],
   "source": [
    "# imports\n",
    "import json\n",
    "import os\n",
    "from typing import List, Dict\n",
    "import math"
   ]
  },
  {
   "cell_type": "code",
   "execution_count": 2,
   "metadata": {},
   "outputs": [],
   "source": [
    "# file dir\n",
    "filename = 'saved_conversations_recbot_gpt4o.jsonl'\n",
    "# get the current working directory\n",
    "ROOT_DIR = os.path.dirname(os.getcwd())"
   ]
  },
  {
   "cell_type": "code",
   "execution_count": 3,
   "metadata": {},
   "outputs": [],
   "source": [
    "def read_jsonl(fpath: str) -> List[Dict]:\n",
    "    res = []\n",
    "    with open(fpath, 'r') as f:\n",
    "        for line in f:\n",
    "            data = json.loads(line)\n",
    "            res.append(data)\n",
    "    return res"
   ]
  },
  {
   "cell_type": "code",
   "execution_count": 4,
   "metadata": {},
   "outputs": [],
   "source": [
    "def compute_dcg(rank):\n",
    "    return 1 / math.log2(rank + 1)"
   ]
  },
  {
   "cell_type": "code",
   "execution_count": 5,
   "metadata": {},
   "outputs": [
    {
     "name": "stdout",
     "output_type": "stream",
     "text": [
      "{'context': 'canned shrimp', 'target': ['Original Pouch Tuna'], 'answer': [19402880, 20385438, 18648443, 28082975, 20503651, 20530756, 20383661, 18648459, 20992209, 20220093, 18648017, 17497901, 41411745, 27242960, 18649386, 19758284, 19750614, 19942135, 6633, 7272], 'LLM_ranker_placement': [], 'Rank_tool_placement': [18], 'NDCG@20': 0.0, 'Baseline': 0.2354}\n"
     ]
    }
   ],
   "source": [
    "# load file\n",
    "data = read_jsonl(os.path.join(ROOT_DIR, 'data', filename))\n",
    "print(data[0])"
   ]
  },
  {
   "cell_type": "code",
   "execution_count": 6,
   "metadata": {},
   "outputs": [
    {
     "name": "stdout",
     "output_type": "stream",
     "text": [
      "LLM DCG: 0.5338\n",
      "Base DCG: 0.6860\n",
      "LLM Mean Placement: 7.1486\n",
      "Base Mean Placement: 4.9557\n"
     ]
    }
   ],
   "source": [
    "# iterate through data and compute dcg by only considering the top converted item from each query\n",
    "llm_dcg = []\n",
    "llm_mean_placement = []\n",
    "base_dcg = []\n",
    "base_mean_placement = []\n",
    "for d in data:\n",
    "    rank = d['LLM_ranker_placement']\n",
    "    base = d['Rank_tool_placement']\n",
    "    try:\n",
    "        llm_dcg.append(compute_dcg(rank[0]))\n",
    "        llm_mean_placement.append(rank[0])\n",
    "    except:\n",
    "        llm_dcg.append(0)\n",
    "        llm_mean_placement.append(20)\n",
    "    \n",
    "    base_dcg.append(compute_dcg(base[0]))\n",
    "    base_mean_placement.append(base[0])\n",
    "\n",
    "# compute the average dcg\n",
    "llm_avg = sum(llm_dcg) / len(llm_dcg)\n",
    "base_avg = sum(base_dcg) / len(base_dcg)\n",
    "# print the results\n",
    "print(f'LLM DCG: {llm_avg:.4f}')\n",
    "print(f'Base DCG: {base_avg:.4f}')\n",
    "# compute the average placement\n",
    "llm_avg_placement = sum(llm_mean_placement) / len(llm_mean_placement)\n",
    "base_avg_placement = sum(base_mean_placement) / len(base_mean_placement)\n",
    "# print the results\n",
    "print(f'LLM Mean Placement: {llm_avg_placement:.4f}')\n",
    "print(f'Base Mean Placement: {base_avg_placement:.4f}')"
   ]
  }
 ],
 "metadata": {
  "kernelspec": {
   "display_name": "Python 3",
   "language": "python",
   "name": "python3"
  },
  "language_info": {
   "codemirror_mode": {
    "name": "ipython",
    "version": 3
   },
   "file_extension": ".py",
   "mimetype": "text/x-python",
   "name": "python",
   "nbconvert_exporter": "python",
   "pygments_lexer": "ipython3",
   "version": "3.8.19"
  }
 },
 "nbformat": 4,
 "nbformat_minor": 2
}
